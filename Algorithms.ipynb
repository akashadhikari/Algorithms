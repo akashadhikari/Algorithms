{
 "cells": [
  {
   "cell_type": "markdown",
   "metadata": {},
   "source": [
    "# Contents\n",
    "\n",
    "## [1) Divide and Conquer Techniques](#divide-and-conquer)\n",
    "\n",
    "[1.1) Binary Search](#binary-search)  \n",
    "[1.2) Finding Maximum and Minimum Value](#max-min)  \n",
    "[1.3) Merge Sort](#merge-sort)  \n",
    "[1.4) Quick Sort](#quick-sort)  \n",
    "[1.5) Karatsuba Algorithm (Multiplication Algorithm)](#karatsuba)  \n",
    "[1.6) Strassen Algorithm (Matrix Multiplication)](#strassen)  \n",
    "\n",
    "## [2) Greedy Methods](#greedy-methods)\n",
    "\n",
    "[2.1) Knapsack Problem (Solving Fractional Knapsack Problem)](#knapsack)  \n",
    "[2.2) Prim's Algorithm (Minimum Spanning Tree)](#prims)  \n",
    "[2.3) Kruskal's Algorithm (Minimum Spanning Tree)](#kruskals)  \n",
    "[2.4) Dijkstra's Algorithm (Single Source Shortest Path Problem)](#dijkstras)  \n",
    "[2.5) Huffman Coding](#huffman)   \n",
    "\n",
    "## [3) Dynamic Programming](#dynamic-programming)\n",
    "[3.1) Solving 0-1 Knapsack Problem](#01knapsack)  \n",
    "[3.2) Introduction to Graph; Representation](#graph-representation)  \n",
    "[3.3) Depth First Search](#dfs)  \n",
    "[3.4) Breadth First Search](#bfs)  \n",
    "[3.5) Topological Sorting](#topological-sorting)  \n",
    "3.6) Multistage Graph  \n",
    "3.7) Matrix Chain Multiplication  \n",
    "3.8) Subset Sum Problem  \n",
    "3.9) Travelling Salesman Problem  \n",
    "\n",
    "## 4) Backtracking\n",
    "4.1) Solving 8-Queens Problem  \n",
    "4.2) Solving Coloring Problem  \n",
    "4.3) Solving Knapsack Problem  \n",
    "\n",
    "## 5) Number Theory\n",
    "5.1) Greatest Common Divisor  \n",
    "5.2) Chinese Remainder Theorem  \n",
    "****"
   ]
  },
  {
   "cell_type": "markdown",
   "metadata": {},
   "source": [
    "## 1) Divide and Conquer Techniques <a name=\"divide-and-conquer\"></a>\n",
    "**Explanation**: https://www.youtube.com/watch?v=2Rr2tW9zvRg"
   ]
  },
  {
   "cell_type": "markdown",
   "metadata": {},
   "source": [
    "### 1.1) Binary Search <a name=\"binary-search\"></a>\n",
    "**Explanation** https://www.youtube.com/watch?v=j5uXyPJ0Pew"
   ]
  },
  {
   "cell_type": "code",
   "execution_count": 1,
   "metadata": {},
   "outputs": [
    {
     "data": {
      "text/plain": [
       "6"
      ]
     },
     "execution_count": 1,
     "metadata": {},
     "output_type": "execute_result"
    }
   ],
   "source": [
    "def binary_search(a,start,end,num):\n",
    "    if start<=end:\n",
    "        mid = (start+end)//2\n",
    "        if a[mid] == num:\n",
    "            return mid\n",
    "        elif a[mid]>num:\n",
    "            return binary_search(a,start,mid-1,num)\n",
    "        else:\n",
    "            return binary_search(a,mid+1,end,num)\n",
    "    else:\n",
    "        return -1\n",
    "a = [8,13,17,21,36,42,69,77]\n",
    "num = 69\n",
    "binary_search(a,0,len(a)-1,num)"
   ]
  },
  {
   "cell_type": "markdown",
   "metadata": {},
   "source": [
    "### 1.2) Finding Maximum and Minimum Value<a name=\"max-min\"></a>\n",
    "**Explanation:** https://youtu.be/-7h1AlVKijA"
   ]
  },
  {
   "cell_type": "code",
   "execution_count": 3,
   "metadata": {},
   "outputs": [
    {
     "name": "stdout",
     "output_type": "stream",
     "text": [
      "The minimum element in the list is 1\n",
      "The maximum element in the list is 9\n"
     ]
    }
   ],
   "source": [
    "import sys\n",
    " \n",
    "INF = sys.maxsize\n",
    " \n",
    "def findMinAndMax(A, left, right, min, max):\n",
    "  \n",
    "    if left == right:\n",
    " \n",
    "        if min > A[right]:\n",
    "            min = A[right]\n",
    " \n",
    "        if max < A[left]:\n",
    "            max = A[left]\n",
    " \n",
    "        return min, max\n",
    " \n",
    " \n",
    "    if right - left == 1:\n",
    " \n",
    "        if A[left] < A[right]:\n",
    "            if min > A[left]:\n",
    "                min = A[left]\n",
    " \n",
    "            if max < A[right]:\n",
    "                max = A[right]\n",
    " \n",
    "        else:\n",
    "            if min > A[right]:\n",
    "                min = A[right]\n",
    " \n",
    "            if max < A[left]:\n",
    "                max = A[left]\n",
    " \n",
    "        return min, max\n",
    " \n",
    "    mid = (left + right) // 2\n",
    " \n",
    "    min, max = findMinAndMax(A, left, mid, min, max)\n",
    " \n",
    "    min, max = findMinAndMax(A, mid + 1, right, min, max)\n",
    " \n",
    "    return min, max\n",
    " \n",
    " \n",
    "if __name__ == '__main__':\n",
    " \n",
    "    A = [7, 2, 9, 3, 1, 6, 7, 8, 4]\n",
    " \n",
    "    # initialize the minimum element by `INFINITY` and the\n",
    "    # maximum element by `-INFINITY`\n",
    "    (min, max) = (INF, -INF)\n",
    "    (min, max) = findMinAndMax(A, 0, len(A) - 1, min, max)\n",
    " \n",
    "    print(\"The minimum element in the list is\", min)\n",
    "    print(\"The maximum element in the list is\", max)"
   ]
  },
  {
   "cell_type": "markdown",
   "metadata": {},
   "source": [
    "### 1.3) Merge Sort<a name=\"merge-sort\"></a>\n",
    "**Explanation:** https://www.youtube.com/watch?v=TzeBrDU-JaY"
   ]
  },
  {
   "cell_type": "code",
   "execution_count": 4,
   "metadata": {},
   "outputs": [
    {
     "name": "stdout",
     "output_type": "stream",
     "text": [
      "[1, 2, 3, 4, 5, 6, 7, 8]\n"
     ]
    }
   ],
   "source": [
    "def mergesort(A):\n",
    "    if len(A)>1:\n",
    "        mid = len(A)//2\n",
    "        left = A[:mid]\n",
    "        right=A[mid:]\n",
    "        mergesort(left)\n",
    "        mergesort(right)\n",
    "        i,j,k=0,0,0\n",
    "        while i<len(left) and j<len(right):\n",
    "            if left[i]<right[j]:\n",
    "                A[k]=left[i]\n",
    "                i+=1\n",
    "            else:\n",
    "                A[k]=right[j]\n",
    "                j+=1\n",
    "            k+=1\n",
    "        while i<len(left):\n",
    "            A[k]=left[i]\n",
    "            i+=1\n",
    "            k+=1\n",
    "        while j<len(right):\n",
    "            A[k]=right[j]\n",
    "            j+=1\n",
    "            k+=1\n",
    "A = [2,4,1,6,8,5,3,7]\n",
    "mergesort(A)\n",
    "print(A)"
   ]
  },
  {
   "cell_type": "markdown",
   "metadata": {},
   "source": [
    "### 1.4) Quick Sort<a name=\"quick-sort\"></a>\n",
    "**Explanation:** https://youtu.be/COk73cpQbFQ"
   ]
  },
  {
   "cell_type": "code",
   "execution_count": 5,
   "metadata": {},
   "outputs": [
    {
     "data": {
      "text/plain": [
       "[1, 2, 3, 4, 5, 6, 7, 8]"
      ]
     },
     "execution_count": 5,
     "metadata": {},
     "output_type": "execute_result"
    }
   ],
   "source": [
    "def partition(a,start,end):\n",
    "    pivot = a[end]\n",
    "    p_index = start\n",
    "    for i in range(start,end):\n",
    "        if a[i]<=pivot:\n",
    "            a[i],a[p_index] = a[p_index],a[i]\n",
    "            p_index+=1\n",
    "    a[p_index],a[end] = a[end], a[p_index]\n",
    "    return p_index\n",
    "\n",
    "def quick_sort(a,start,end):\n",
    "    if start < end:\n",
    "        p_index = partition(a,start,end)\n",
    "        quick_sort(a,start,p_index-1)\n",
    "        quick_sort(a,p_index+1,end)\n",
    "    return a\n",
    "        \n",
    "quick_sort([7,2,1,6,8,5,3,4],0,7)"
   ]
  },
  {
   "cell_type": "markdown",
   "metadata": {},
   "source": [
    "### 1.5) Karatsuba Algorithm (Multiplication Algorithm)<a name=\"karatsuba\"></a>\n",
    "**Explanation:** https://www.codeandgadgets.com/karatsuba-multiplication-python/"
   ]
  },
  {
   "cell_type": "code",
   "execution_count": 6,
   "metadata": {},
   "outputs": [
    {
     "data": {
      "text/plain": [
       "9801"
      ]
     },
     "execution_count": 6,
     "metadata": {},
     "output_type": "execute_result"
    }
   ],
   "source": [
    "def zeroPad(numberString, zeros, left = True):\n",
    "    \"\"\"Return the string with zeros added to the left or right.\"\"\"\n",
    "    for i in range(zeros):\n",
    "        if left:\n",
    "            numberString = '0' + numberString\n",
    "        else:\n",
    "            numberString = numberString + '0'\n",
    "    return numberString\n",
    "\n",
    "def karatsubaMultiplication(x ,y):\n",
    "\n",
    "    x = str(x)\n",
    "    y = str(y)\n",
    "    \n",
    "    if len(x) == 1 and len(y) == 1:\n",
    "        return int(x) * int(y)\n",
    "    if len(x) < len(y):\n",
    "        x = zeroPad(x, len(y) - len(x))\n",
    "    elif len(y) < len(x):\n",
    "        y = zeroPad(y, len(x) - len(y))\n",
    "    n = len(x)\n",
    "    j = n//2\n",
    "    \n",
    "    #for odd digit integers\n",
    "    if (n % 2) != 0:\n",
    "        j += 1    \n",
    "    BZeroPadding = n - j\n",
    "    AZeroPadding = BZeroPadding * 2\n",
    "    a = int(x[:j])\n",
    "    b = int(x[j:])\n",
    "    c = int(y[:j])\n",
    "    d = int(y[j:])\n",
    "    \n",
    "    #recursively calculate\n",
    "    ac = karatsubaMultiplication(a, c)\n",
    "    bd = karatsubaMultiplication(b, d)\n",
    "    k = karatsubaMultiplication(a + b, c + d)\n",
    "    A = int(zeroPad(str(ac), AZeroPadding, False))\n",
    "    B = int(zeroPad(str(k - ac - bd), BZeroPadding, False))\n",
    "    return A + B + bd\n",
    "\n",
    "karatsubaMultiplication(99,99)"
   ]
  },
  {
   "cell_type": "markdown",
   "metadata": {},
   "source": [
    "### 1.6) Strassen Algorithm (Matrix Multiplication) <a name=\"strassen\"></a>\n",
    "**Explanation:** https://www.youtube.com/watch?v=0oJyNmEbS4w"
   ]
  },
  {
   "cell_type": "code",
   "execution_count": 7,
   "metadata": {},
   "outputs": [],
   "source": [
    "'''\n",
    "Following is a non-executable pseudocode\n",
    "'''\n",
    "def matrix_mul(A,B,n):\n",
    "    if n == 1:\n",
    "        return A*B\n",
    "    else:\n",
    "        mid = n/2\n",
    "        c11 = matrix_mul(A11,B11,n/2) + matrix_mul(A12,B21,n/2)\n",
    "        c12 = matrix_mul(A11,B12,n/2) + matrix_mul(A12,B22,n/2)\n",
    "        c21 = matrix_mul(A21,B11,n/2) + matrix_mul(A22,B21,n/2)\n",
    "        c22 = matrix_mul(A21,B12,n/2) + matrix_mul(A22,B21,n/2)\n",
    "    return c"
   ]
  },
  {
   "cell_type": "markdown",
   "metadata": {},
   "source": [
    "## 2) Greedy Methods <a name=\"greedy-methods\"></a>\n",
    "**Explanation**: https://www.youtube.com/watch?v=ARvQcqJ_-NY"
   ]
  },
  {
   "cell_type": "markdown",
   "metadata": {},
   "source": [
    "### 2.1) Knapsack Problem (Solving Fractional Knapsack Problem) <a name=\"knapsack\"></a>\n",
    "**Explanation:** https://www.youtube.com/watch?v=oTTzNMHM05I"
   ]
  },
  {
   "cell_type": "code",
   "execution_count": 8,
   "metadata": {},
   "outputs": [
    {
     "name": "stdout",
     "output_type": "stream",
     "text": [
      "55\n"
     ]
    }
   ],
   "source": [
    "class Solution:\n",
    "    def solve(self, weights, values, capacity):\n",
    "        res = 0\n",
    "        for pair in sorted(zip(weights, values), key=lambda x: - x[1]/x[0]):\n",
    "            if not bool(capacity):\n",
    "                break\n",
    "            if pair[0] > capacity:\n",
    "                res += int(pair[1] / (pair[0] / capacity))\n",
    "                capacity = 0\n",
    "            elif pair[0] <= capacity:\n",
    "                res += pair[1]\n",
    "                capacity -= pair[0]\n",
    "        return int(res)\n",
    "\n",
    "ob = Solution()\n",
    "weights = [2,3,5,7,1,4,1]\n",
    "values = [10,5,15,7,6,18,3]\n",
    "capacity = 15\n",
    "print(ob.solve(weights, values, capacity))"
   ]
  },
  {
   "cell_type": "markdown",
   "metadata": {},
   "source": [
    "### **Note:** It's recommended to check section [3.2 (Introduction to Graph)](#graph-representation) before proceeding below (graph/tree based) implementations."
   ]
  },
  {
   "cell_type": "markdown",
   "metadata": {},
   "source": [
    "### 2.2) Prim's Algorithm (Minimum Spanning Tree)<a name=\"prims\"></a>\n",
    "**Explanation:** https://www.youtube.com/watch?v=ZtZaR7EcI5Y  \n",
    "**Explanation:** https://www.programiz.com/dsa/prim-algorithm"
   ]
  },
  {
   "cell_type": "code",
   "execution_count": 13,
   "metadata": {},
   "outputs": [
    {
     "name": "stdout",
     "output_type": "stream",
     "text": [
      "Edge : Weight\n",
      "\n",
      "0-1:9\n",
      "1-3:19\n",
      "3-4:31\n",
      "3-2:51\n"
     ]
    }
   ],
   "source": [
    "INF = 9999999\n",
    "# number of vertices in graph\n",
    "V = 5\n",
    "# create a 2d array of size 5x5\n",
    "# for adjacency matrix to represent graph\n",
    "G = [[0, 9, 75, 0, 0],\n",
    "     [9, 0, 95, 19, 42],\n",
    "     [75, 95, 0, 51, 66],\n",
    "     [0, 19, 51, 0, 31],\n",
    "     [0, 42, 66, 31, 0]]\n",
    "# create a array to track selected vertex\n",
    "# selected will become true otherwise false\n",
    "selected = [0, 0, 0, 0, 0]\n",
    "# set number of edge to 0\n",
    "no_edge = 0\n",
    "# the number of egde in minimum spanning tree will be\n",
    "# always less than(V - 1), where V is number of vertices in\n",
    "# graph\n",
    "# choose 0th vertex and make it true\n",
    "selected[0] = True\n",
    "# print for edge and weight\n",
    "print(\"Edge : Weight\\n\")\n",
    "while (no_edge < V - 1):\n",
    "    # For every vertex in the set S, find the all adjacent vertices\n",
    "    #, calculate the distance from the vertex selected at step 1.\n",
    "    # if the vertex is already in the set S, discard it otherwise\n",
    "    # choose another vertex nearest to selected vertex  at step 1.\n",
    "    minimum = INF\n",
    "    x = 0\n",
    "    y = 0\n",
    "    for i in range(V):\n",
    "        if selected[i]:\n",
    "            for j in range(V):\n",
    "                if ((not selected[j]) and G[i][j]):  \n",
    "                    # not in selected and there is an edge\n",
    "                    if minimum > G[i][j]:\n",
    "                        minimum = G[i][j]\n",
    "                        x = i\n",
    "                        y = j\n",
    "    print(str(x) + \"-\" + str(y) + \":\" + str(G[x][y]))\n",
    "    selected[y] = True\n",
    "    no_edge += 1"
   ]
  },
  {
   "cell_type": "markdown",
   "metadata": {},
   "source": [
    "### 2.3) Kruskal's Algorithm (Minimum Spanning Tree)<a name=\"kruskals\"></a>\n",
    "**Explanation:** https://www.youtube.com/watch?v=EjVHtpWkIho  \n",
    "**Explanation:** https://www.programiz.com/dsa/kruskal-algorithm"
   ]
  },
  {
   "cell_type": "code",
   "execution_count": 14,
   "metadata": {},
   "outputs": [
    {
     "name": "stdout",
     "output_type": "stream",
     "text": [
      "1 - 2: 2\n",
      "2 - 5: 2\n",
      "2 - 3: 3\n",
      "3 - 4: 3\n",
      "0 - 1: 4\n"
     ]
    }
   ],
   "source": [
    "\n",
    "class Graph:\n",
    "    def __init__(self, vertices):\n",
    "        self.V = vertices\n",
    "        self.graph = []\n",
    "\n",
    "    def add_edge(self, u, v, w):\n",
    "        self.graph.append([u, v, w])\n",
    "\n",
    "    # Search function\n",
    "\n",
    "    def find(self, parent, i):\n",
    "        if parent[i] == i:\n",
    "            return i\n",
    "        return self.find(parent, parent[i])\n",
    "\n",
    "    def apply_union(self, parent, rank, x, y):\n",
    "        xroot = self.find(parent, x)\n",
    "        yroot = self.find(parent, y)\n",
    "        if rank[xroot] < rank[yroot]:\n",
    "            parent[xroot] = yroot\n",
    "        elif rank[xroot] > rank[yroot]:\n",
    "            parent[yroot] = xroot\n",
    "        else:\n",
    "            parent[yroot] = xroot\n",
    "            rank[xroot] += 1\n",
    "\n",
    "    #  Applying Kruskal algorithm\n",
    "    def kruskal_algo(self):\n",
    "        result = []\n",
    "        i, e = 0, 0\n",
    "        self.graph = sorted(self.graph, key=lambda item: item[2])\n",
    "        parent = []\n",
    "        rank = []\n",
    "        for node in range(self.V):\n",
    "            parent.append(node)\n",
    "            rank.append(0)\n",
    "        while e < self.V - 1:\n",
    "            u, v, w = self.graph[i]\n",
    "            i = i + 1\n",
    "            x = self.find(parent, u)\n",
    "            y = self.find(parent, v)\n",
    "            if x != y:\n",
    "                e = e + 1\n",
    "                result.append([u, v, w])\n",
    "                self.apply_union(parent, rank, x, y)\n",
    "        for u, v, weight in result:\n",
    "            print(\"%d - %d: %d\" % (u, v, weight))\n",
    "\n",
    "\n",
    "g = Graph(6)\n",
    "g.add_edge(0, 1, 4)\n",
    "g.add_edge(0, 2, 4)\n",
    "g.add_edge(1, 2, 2)\n",
    "g.add_edge(1, 0, 4)\n",
    "g.add_edge(2, 0, 4)\n",
    "g.add_edge(2, 1, 2)\n",
    "g.add_edge(2, 3, 3)\n",
    "g.add_edge(2, 5, 2)\n",
    "g.add_edge(2, 4, 4)\n",
    "g.add_edge(3, 2, 3)\n",
    "g.add_edge(3, 4, 3)\n",
    "g.add_edge(4, 2, 4)\n",
    "g.add_edge(4, 3, 3)\n",
    "g.add_edge(5, 2, 2)\n",
    "g.add_edge(5, 4, 3)\n",
    "g.kruskal_algo()"
   ]
  },
  {
   "cell_type": "markdown",
   "metadata": {},
   "source": [
    "### 2.4) Dijkstra's Algorithm (Single Source Shortest Path Problem)<a name=\"dijkstras\"></a>\n",
    "**Explanation:** https://www.youtube.com/watch?v=smHnz2RHJBY  \n",
    "**Explanation:** https://www.programiz.com/dsa/dijkstra-algorithm"
   ]
  },
  {
   "cell_type": "code",
   "execution_count": 15,
   "metadata": {},
   "outputs": [
    {
     "name": "stdout",
     "output_type": "stream",
     "text": [
      "Distance of  a  from source vertex:  0\n",
      "Distance of  b  from source vertex:  3\n",
      "Distance of  c  from source vertex:  1\n",
      "Distance of  d  from source vertex:  2\n",
      "Distance of  e  from source vertex:  4\n",
      "Distance of  f  from source vertex:  4\n",
      "Distance of  g  from source vertex:  3\n"
     ]
    }
   ],
   "source": [
    "# Dijkstra's Algorithm in Python\n",
    "\n",
    "\n",
    "import sys\n",
    "\n",
    "# Providing the graph\n",
    "vertices = [[0, 0, 1, 1, 0, 0, 0],\n",
    "            [0, 0, 1, 0, 0, 1, 0],\n",
    "            [1, 1, 0, 1, 1, 0, 0],\n",
    "            [1, 0, 1, 0, 0, 0, 1],\n",
    "            [0, 0, 1, 0, 0, 1, 0],\n",
    "            [0, 1, 0, 0, 1, 0, 1],\n",
    "            [0, 0, 0, 1, 0, 1, 0]]\n",
    "\n",
    "edges = [[0, 0, 1, 2, 0, 0, 0],\n",
    "         [0, 0, 2, 0, 0, 3, 0],\n",
    "         [1, 2, 0, 1, 3, 0, 0],\n",
    "         [2, 0, 1, 0, 0, 0, 1],\n",
    "         [0, 0, 3, 0, 0, 2, 0],\n",
    "         [0, 3, 0, 0, 2, 0, 1],\n",
    "         [0, 0, 0, 1, 0, 1, 0]]\n",
    "\n",
    "# Find which vertex is to be visited next\n",
    "def to_be_visited():\n",
    "    global visited_and_distance\n",
    "    v = -10\n",
    "    for index in range(num_of_vertices):\n",
    "        if visited_and_distance[index][0] == 0 \\\n",
    "            and (v < 0 or visited_and_distance[index][1] <=\n",
    "                 visited_and_distance[v][1]):\n",
    "            v = index\n",
    "    return v\n",
    "\n",
    "\n",
    "num_of_vertices = len(vertices[0])\n",
    "\n",
    "visited_and_distance = [[0, 0]]\n",
    "for i in range(num_of_vertices-1):\n",
    "    visited_and_distance.append([0, sys.maxsize])\n",
    "\n",
    "for vertex in range(num_of_vertices):\n",
    "\n",
    "    # Find next vertex to be visited\n",
    "    to_visit = to_be_visited()\n",
    "    for neighbor_index in range(num_of_vertices):\n",
    "\n",
    "        # Updating new distances\n",
    "        if vertices[to_visit][neighbor_index] == 1 and \\\n",
    "                visited_and_distance[neighbor_index][0] == 0:\n",
    "            new_distance = visited_and_distance[to_visit][1] \\\n",
    "                + edges[to_visit][neighbor_index]\n",
    "            if visited_and_distance[neighbor_index][1] > new_distance:\n",
    "                visited_and_distance[neighbor_index][1] = new_distance\n",
    "        \n",
    "        visited_and_distance[to_visit][0] = 1\n",
    "\n",
    "i = 0\n",
    "\n",
    "# Printing the distance\n",
    "for distance in visited_and_distance:\n",
    "    print(\"Distance of \", chr(ord('a') + i),\n",
    "          \" from source vertex: \", distance[1])\n",
    "    i = i + 1"
   ]
  },
  {
   "cell_type": "markdown",
   "metadata": {},
   "source": [
    "### 2.5) Huffman Coding <a name=\"huffman\"></a>\n",
    "**Explanation:** https://www.youtube.com/watch?v=co4_ahEDCho  \n",
    "**Explanation:** https://www.programiz.com/dsa/huffman-coding"
   ]
  },
  {
   "cell_type": "code",
   "execution_count": 12,
   "metadata": {},
   "outputs": [
    {
     "name": "stdout",
     "output_type": "stream",
     "text": [
      " Char | Huffman code \n",
      "----------------------\n",
      " 'C'  |           0\n",
      " 'A'  |          11\n",
      " 'D'  |         101\n",
      " 'B'  |         100\n"
     ]
    }
   ],
   "source": [
    "string = 'BCAADDDCCACACAC'\n",
    "\n",
    "# Creating tree nodes\n",
    "class NodeTree(object):\n",
    "\n",
    "    def __init__(self, left=None, right=None):\n",
    "        self.left = left\n",
    "        self.right = right\n",
    "\n",
    "    def children(self):\n",
    "        return (self.left, self.right)\n",
    "\n",
    "    def nodes(self):\n",
    "        return (self.left, self.right)\n",
    "\n",
    "    def __str__(self):\n",
    "        return '%s_%s' % (self.left, self.right)\n",
    "\n",
    "\n",
    "# Main function implementing huffman coding\n",
    "def huffman_code_tree(node, left=True, binString=''):\n",
    "    if type(node) is str:\n",
    "        return {node: binString}\n",
    "    (l, r) = node.children()\n",
    "    d = dict()\n",
    "    d.update(huffman_code_tree(l, True, binString + '0'))\n",
    "    d.update(huffman_code_tree(r, False, binString + '1'))\n",
    "    return d\n",
    "\n",
    "\n",
    "# Calculating frequency\n",
    "freq = {}\n",
    "for c in string:\n",
    "    if c in freq:\n",
    "        freq[c] += 1\n",
    "    else:\n",
    "        freq[c] = 1\n",
    "\n",
    "freq = sorted(freq.items(), key=lambda x: x[1], reverse=True)\n",
    "\n",
    "nodes = freq\n",
    "\n",
    "while len(nodes) > 1:\n",
    "    (key1, c1) = nodes[-1]\n",
    "    (key2, c2) = nodes[-2]\n",
    "    nodes = nodes[:-2]\n",
    "    node = NodeTree(key1, key2)\n",
    "    nodes.append((node, c1 + c2))\n",
    "\n",
    "    nodes = sorted(nodes, key=lambda x: x[1], reverse=True)\n",
    "\n",
    "huffmanCode = huffman_code_tree(nodes[0][0])\n",
    "\n",
    "print(' Char | Huffman code ')\n",
    "print('----------------------')\n",
    "for (char, frequency) in freq:\n",
    "    print(' %-4r |%12s' % (char, huffmanCode[char]))"
   ]
  },
  {
   "cell_type": "markdown",
   "metadata": {},
   "source": [
    "## 3) Dynamic Programming <a name=\"dynamic-programming\"></a>\n",
    "**Explanation**: https://www.youtube.com/watch?v=5dRGRueKU3M"
   ]
  },
  {
   "cell_type": "markdown",
   "metadata": {},
   "source": [
    "### 3.1) Solving 0-1 Knapsack Problem <a name=\"01knapsack\"></a>\n",
    "**Explanation:** https://youtu.be/nLmhmB6NzcM"
   ]
  },
  {
   "cell_type": "code",
   "execution_count": 6,
   "metadata": {},
   "outputs": [
    {
     "name": "stdout",
     "output_type": "stream",
     "text": [
      "[[0, 0, 0, 0, 0, 0, 0, 0, 0], [0, 0, 1, 1, 1, 1, 1, 1, 1], [0, 0, 1, 2, 2, 3, 3, 3, 3], [0, 0, 1, 2, 5, 5, 6, 7, 7], [0, 0, 1, 2, 5, 6, 6, 7, 8]]\n",
      "8\n"
     ]
    }
   ],
   "source": [
    "def knapSack(W, wt, val, n):\n",
    "    K = [[0 for x in range(W + 1)] for x in range(n + 1)]\n",
    "  \n",
    "    for i in range(n + 1):\n",
    "        for w in range(W + 1):\n",
    "            if i == 0 or w == 0:\n",
    "                K[i][w] = 0\n",
    "            elif wt[i-1] <= w:\n",
    "                K[i][w] = max(val[i-1] + K[i-1][w-wt[i-1]],  K[i-1][w])\n",
    "            else:\n",
    "                K[i][w] = K[i-1][w]\n",
    "    print(K)       \n",
    "    return K[n][W]\n",
    "  \n",
    "val = [1,2,5,6]\n",
    "wt = [2, 3, 4, 5]\n",
    "W = 8\n",
    "n = len(val)\n",
    "print(knapSack(W, wt, val, n))"
   ]
  },
  {
   "cell_type": "markdown",
   "metadata": {},
   "source": [
    "### 3.2) Introduction to Graph; Representation<a name=\"graph-representation\"></a>\n",
    "https://www.geeksforgeeks.org/graph-and-its-representations/"
   ]
  },
  {
   "cell_type": "markdown",
   "metadata": {},
   "source": [
    "### First let's go through a simple Linked List representation in Python"
   ]
  },
  {
   "cell_type": "code",
   "execution_count": 2,
   "metadata": {},
   "outputs": [
    {
     "name": "stdout",
     "output_type": "stream",
     "text": [
      "Jan ->  Feb ->  Mar ->  \n",
      "\n",
      "Sunday ->  Monday ->  Tuesday ->  \n",
      "\n"
     ]
    }
   ],
   "source": [
    "class Node:\n",
    "    def __init__(self, dataval=None):\n",
    "        self.dataval = dataval\n",
    "        self.nextval = None\n",
    "\n",
    "class NewLinkedList:\n",
    "    def __init__(self):\n",
    "        self.headval = None\n",
    "        \n",
    "    def listprint(self):\n",
    "        printval = self.headval\n",
    "        while printval is not None:\n",
    "            print (printval.dataval + \" -> \", end =\" \")\n",
    "            printval = printval.nextval\n",
    "        print(\"\\n\")\n",
    "        \n",
    "        \n",
    "month_list = NewLinkedList()\n",
    "month_list.headval = Node(\"Jan\")\n",
    "m2 = Node(\"Feb\")\n",
    "m3 = Node(\"Mar\")\n",
    "month_list.headval.nextval = m2\n",
    "m2.nextval = m3\n",
    "month_list.listprint()\n",
    "\n",
    "day_list = NewLinkedList()\n",
    "day_list.headval = Node(\"Sunday\")\n",
    "d2 = Node(\"Monday\")\n",
    "d3 = Node(\"Tuesday\")\n",
    "day_list.headval.nextval = d2\n",
    "d2.nextval = d3\n",
    "day_list.listprint()"
   ]
  },
  {
   "cell_type": "markdown",
   "metadata": {},
   "source": [
    "### Now, coming back to graph"
   ]
  },
  {
   "cell_type": "code",
   "execution_count": 7,
   "metadata": {},
   "outputs": [
    {
     "name": "stdout",
     "output_type": "stream",
     "text": [
      "Adjacency list of vertex 0\n",
      " head -> 4 -> 1 \n",
      "\n",
      "Adjacency list of vertex 1\n",
      " head -> 4 -> 3 -> 2 -> 0 \n",
      "\n",
      "Adjacency list of vertex 2\n",
      " head -> 3 -> 1 \n",
      "\n",
      "Adjacency list of vertex 3\n",
      " head -> 4 -> 2 -> 1 \n",
      "\n",
      "Adjacency list of vertex 4\n",
      " head -> 3 -> 1 -> 0 \n",
      "\n"
     ]
    }
   ],
   "source": [
    "class AdjNode:\n",
    "    def __init__(self, data):\n",
    "        self.vertex = data\n",
    "        self.next = None\n",
    "\n",
    "class Graph:\n",
    "    def __init__(self, vertices):\n",
    "        self.V = vertices\n",
    "        self.graph = [None] * self.V\n",
    "\n",
    "    def add_edge(self, src, dest):\n",
    "        # Adding the node to the source node\n",
    "        node = AdjNode(dest)\n",
    "        node.next = self.graph[src]\n",
    "        self.graph[src] = node\n",
    "\n",
    "        # Adding the source node to the destination as\n",
    "        # it is the undirected graph\n",
    "        node = AdjNode(src)\n",
    "        node.next = self.graph[dest]\n",
    "        self.graph[dest] = node\n",
    "\n",
    "    # Function to print the graph\n",
    "    def print_graph(self):\n",
    "        for i in range(self.V):\n",
    "            print(\"Adjacency list of vertex {}\\n head\".format(i), end=\"\")\n",
    "            temp = self.graph[i]\n",
    "            while temp:\n",
    "                print(\" -> {}\".format(temp.vertex), end=\"\")\n",
    "                temp = temp.next\n",
    "            print(\" \\n\")\n",
    "\n",
    "if __name__ == \"__main__\":\n",
    "    V = 5\n",
    "    graph = Graph(V)\n",
    "    graph.add_edge(0, 1)\n",
    "    graph.add_edge(0, 4)\n",
    "    graph.add_edge(1, 2)\n",
    "    graph.add_edge(1, 3)\n",
    "    graph.add_edge(1, 4)\n",
    "    graph.add_edge(2, 3)\n",
    "    graph.add_edge(3, 4)\n",
    "\n",
    "    graph.print_graph()"
   ]
  },
  {
   "cell_type": "markdown",
   "metadata": {},
   "source": [
    "### 3.3) Depth First Search<a name=\"dfs\"></a>\n",
    "**Explanation:** https://www.geeksforgeeks.org/breadth-first-search-or-bfs-for-a-graph/"
   ]
  },
  {
   "cell_type": "code",
   "execution_count": 5,
   "metadata": {},
   "outputs": [
    {
     "name": "stdout",
     "output_type": "stream",
     "text": [
      "Following is DFS from (starting from vertex 2)\n",
      "2 0 1 3 "
     ]
    }
   ],
   "source": [
    "from collections import defaultdict\n",
    "\n",
    "\n",
    "class Graph:\n",
    "\n",
    "    def __init__(self):\n",
    "        self.graph = defaultdict(list)\n",
    "\n",
    "    def addEdge(self, u, v):\n",
    "        self.graph[u].append(v)\n",
    "\n",
    "    def DFSUtil(self, v, visited):\n",
    "\n",
    "        # Mark the current node as visited\n",
    "        # and print it\n",
    "        visited.add(v)\n",
    "        print(v, end=' ')\n",
    "\n",
    "        # Recur for all the vertices\n",
    "        # adjacent to this vertex\n",
    "        for neighbour in self.graph[v]:\n",
    "            if neighbour not in visited:\n",
    "                self.DFSUtil(neighbour, visited)\n",
    "\n",
    "    # The function to do DFS traversal. It uses\n",
    "    # recursive DFSUtil()\n",
    "    def DFS(self, v):\n",
    "\n",
    "        # Create a set to store visited vertices\n",
    "        visited = set()\n",
    "\n",
    "        # Call the recursive helper function\n",
    "        # to print DFS traversal\n",
    "        self.DFSUtil(v, visited)\n",
    "\n",
    "g = Graph()\n",
    "g.addEdge(0, 1)\n",
    "g.addEdge(0, 2)\n",
    "g.addEdge(1, 2)\n",
    "g.addEdge(2, 0)\n",
    "g.addEdge(2, 3)\n",
    "g.addEdge(3, 3)\n",
    "\n",
    "print(\"Following is DFS from (starting from vertex 2)\")\n",
    "g.DFS(2)"
   ]
  },
  {
   "cell_type": "markdown",
   "metadata": {},
   "source": [
    "### 3.4) Breadth First Search<a name=\"bfs\"></a>\n",
    "**Explanation:** https://www.geeksforgeeks.org/breadth-first-search-or-bfs-for-a-graph/"
   ]
  },
  {
   "cell_type": "code",
   "execution_count": 4,
   "metadata": {},
   "outputs": [
    {
     "name": "stdout",
     "output_type": "stream",
     "text": [
      "Following is Breadth First Traversal (starting from vertex 2)\n",
      "2 0 3 1 "
     ]
    }
   ],
   "source": [
    "from collections import defaultdict\n",
    "\n",
    "class Graph:\n",
    "\n",
    "    def __init__(self):\n",
    "        self.graph = defaultdict(list)\n",
    "        \n",
    "    def addEdge(self, u, v):\n",
    "        self.graph[u].append(v)\n",
    "        \n",
    "    def BFS(self, s):\n",
    "\n",
    "        # Mark all the vertices as not visited\n",
    "        visited = [False] * (max(self.graph) + 1)\n",
    "\n",
    "        # Create a queue for BFS\n",
    "        queue = []\n",
    "\n",
    "        # Mark the source node as\n",
    "        # visited and enqueue it\n",
    "        queue.append(s)\n",
    "        visited[s] = True\n",
    "\n",
    "        while queue:\n",
    "\n",
    "            # Dequeue a vertex from\n",
    "            # queue and print it\n",
    "            s = queue.pop(0)\n",
    "            print(s, end=\" \")\n",
    "\n",
    "            # Get all adjacent vertices of the\n",
    "            # dequeued vertex s. If a adjacent\n",
    "            # has not been visited, then mark it\n",
    "            # visited and enqueue it\n",
    "            for i in self.graph[s]:\n",
    "                if visited[i] == False:\n",
    "                    queue.append(i)\n",
    "                    visited[i] = True\n",
    "\n",
    "g = Graph()\n",
    "g.addEdge(0, 1)\n",
    "g.addEdge(0, 2)\n",
    "g.addEdge(1, 2)\n",
    "g.addEdge(2, 0)\n",
    "g.addEdge(2, 3)\n",
    "g.addEdge(3, 3)\n",
    "\n",
    "print(\"Following is Breadth First Traversal\"\n",
    "      \" (starting from vertex 2)\")\n",
    "g.BFS(2)"
   ]
  },
  {
   "cell_type": "markdown",
   "metadata": {},
   "source": [
    "## 3.5) Topological Sorting<a name=\"topological-sorting\"></a>\n",
    "**Explanation:** https://www.youtube.com/watch?v=dis_c84ejhQ  \n",
    "**Explanation:** https://www.geeksforgeeks.org/topological-sorting/"
   ]
  },
  {
   "cell_type": "code",
   "execution_count": 7,
   "metadata": {},
   "outputs": [
    {
     "name": "stdout",
     "output_type": "stream",
     "text": [
      "Following is a Topological Sort of the given graph\n",
      "[5, 4, 2, 3, 1, 0]\n"
     ]
    }
   ],
   "source": [
    "from collections import defaultdict\n",
    "\n",
    "class Graph:\n",
    "    def __init__(self, vertices):\n",
    "        self.graph = defaultdict(list)  # dictionary containing adjacency List\n",
    "        self.V = vertices  # No. of vertices\n",
    "\n",
    "    def addEdge(self, u, v):\n",
    "        self.graph[u].append(v)\n",
    "\n",
    "    # A recursive function used by topologicalSort\n",
    "    def topologicalSortUtil(self, v, visited, stack):\n",
    "\n",
    "        # Mark the current node as visited.\n",
    "        visited[v] = True\n",
    "\n",
    "        # Recur for all the vertices adjacent to this vertex\n",
    "        for i in self.graph[v]:\n",
    "            if visited[i] == False:\n",
    "                self.topologicalSortUtil(i, visited, stack)\n",
    "\n",
    "        # Push current vertex to stack which stores result\n",
    "        stack.append(v)\n",
    "\n",
    "    # The function to do Topological Sort. It uses recursive\n",
    "    # topologicalSortUtil()\n",
    "    def topologicalSort(self):\n",
    "        # Mark all the vertices as not visited\n",
    "        visited = [False]*self.V\n",
    "        stack = []\n",
    "\n",
    "        # Call the recursive helper function to store Topological\n",
    "        # Sort starting from all vertices one by one\n",
    "        for i in range(self.V):\n",
    "            if visited[i] == False:\n",
    "                self.topologicalSortUtil(i, visited, stack)\n",
    "\n",
    "        # Print contents of the stack\n",
    "        print(stack[::-1])  # return list in reverse order\n",
    "\n",
    "\n",
    "g = Graph(6)\n",
    "g.addEdge(5, 2)\n",
    "g.addEdge(5, 0)\n",
    "g.addEdge(4, 0)\n",
    "g.addEdge(4, 1)\n",
    "g.addEdge(2, 3)\n",
    "g.addEdge(3, 1)\n",
    "\n",
    "print(\"Following is a Topological Sort of the given graph\")\n",
    "\n",
    "g.topologicalSort()"
   ]
  },
  {
   "cell_type": "markdown",
   "metadata": {},
   "source": [
    "## 3.6) Multistage Graph<a name=\"topological-sorting\"></a>\n",
    "**Explanation:** https://youtu.be/9iE9Mj4m8jk  \n",
    "**Explanation:** https://www.youtube.com/watch?v=FcScLYJI42E  \n",
    "**Explanation:** https://www.geeksforgeeks.org/multistage-graph-shortest-path/"
   ]
  },
  {
   "cell_type": "code",
   "execution_count": 9,
   "metadata": {},
   "outputs": [
    {
     "name": "stdout",
     "output_type": "stream",
     "text": [
      "9\n"
     ]
    }
   ],
   "source": [
    "def shortestDist(graph):\n",
    "    global INF\n",
    "\n",
    "    dist = [0] * N\n",
    "\n",
    "    dist[N - 1] = 0\n",
    "\n",
    "    # Calculating shortest path\n",
    "    # for rest of the nodes\n",
    "    for i in range(N - 2, -1, -1):\n",
    "\n",
    "        dist[i] = INF\n",
    "\n",
    "        for j in range(N):\n",
    "\n",
    "            # Reject if no edge exists\n",
    "            if graph[i][j] == INF:\n",
    "                continue\n",
    "\n",
    "            # We apply recursive equation to\n",
    "            # distance to target through j.\n",
    "            # and compare with minimum\n",
    "            # distance so far.\n",
    "            dist[i] = min(dist[i], graph[i][j] + dist[j])\n",
    "\n",
    "    return dist[0]\n",
    "\n",
    "N = 8\n",
    "INF = 999999999999\n",
    "\n",
    "graph = [[INF, 1, 2, 5, INF, INF, INF, INF],\n",
    "         [INF, INF, INF, INF, 4, 11, INF, INF],\n",
    "         [INF, INF, INF, INF, 9, 5, 16, INF],\n",
    "         [INF, INF, INF, INF, INF, INF, 2, INF],\n",
    "         [INF, INF, INF, INF, INF, INF, INF, 18],\n",
    "         [INF, INF, INF, INF, INF, INF, INF, 13],\n",
    "         [INF, INF, INF, INF, INF, INF, INF, 2]]\n",
    "\n",
    "print(shortestDist(graph))"
   ]
  },
  {
   "cell_type": "code",
   "execution_count": null,
   "metadata": {},
   "outputs": [],
   "source": []
  }
 ],
 "metadata": {
  "kernelspec": {
   "display_name": "Python 3",
   "language": "python",
   "name": "python3"
  },
  "language_info": {
   "codemirror_mode": {
    "name": "ipython",
    "version": 3
   },
   "file_extension": ".py",
   "mimetype": "text/x-python",
   "name": "python",
   "nbconvert_exporter": "python",
   "pygments_lexer": "ipython3",
   "version": "3.7.6"
  }
 },
 "nbformat": 4,
 "nbformat_minor": 4
}
