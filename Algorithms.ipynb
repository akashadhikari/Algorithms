{
 "cells": [
  {
   "cell_type": "markdown",
   "metadata": {},
   "source": [
    "## Divide and Conquer"
   ]
  },
  {
   "cell_type": "markdown",
   "metadata": {},
   "source": [
    "### Binary Search"
   ]
  },
  {
   "cell_type": "code",
   "execution_count": 1,
   "metadata": {},
   "outputs": [
    {
     "data": {
      "text/plain": [
       "3"
      ]
     },
     "execution_count": 1,
     "metadata": {},
     "output_type": "execute_result"
    }
   ],
   "source": [
    "'''\n",
    "Binary Search\n",
    "a = [2,6,13,24,36,47,63,81,97]\n",
    "'''\n",
    "class Solution():\n",
    "    def binary_search(self,a,s):\n",
    "        start = 0\n",
    "        end = len(a)-1\n",
    "        while(start<=end):\n",
    "            mid = int((start+end)/2)\n",
    "            if s==a[mid]:\n",
    "                return mid\n",
    "            elif s<a[mid]:\n",
    "                end = mid-1\n",
    "            else:\n",
    "                start = mid+1\n",
    "        return -1\n",
    "\n",
    "o = Solution().binary_search([2,6,13,24,36,47,63,81,97],24)\n",
    "o"
   ]
  },
  {
   "cell_type": "markdown",
   "metadata": {},
   "source": [
    "#### Binary Search on descending array"
   ]
  },
  {
   "cell_type": "code",
   "execution_count": 2,
   "metadata": {},
   "outputs": [
    {
     "data": {
      "text/plain": [
       "5"
      ]
     },
     "execution_count": 2,
     "metadata": {},
     "output_type": "execute_result"
    }
   ],
   "source": [
    "'''\n",
    "Binary Search\n",
    "a = [97,81,63,47,36,24,13,6,2]\n",
    "'''\n",
    "class Solution():\n",
    "    def binary_search(self,a,s):\n",
    "        start = 0\n",
    "        end = len(a)-1\n",
    "        while(start<=end):\n",
    "            mid = int((start+end)/2)\n",
    "            if s==a[mid]:\n",
    "                return mid\n",
    "            elif s<a[mid]:\n",
    "                start = mid+1\n",
    "            else:\n",
    "                end = mid-1\n",
    "        return -1\n",
    "\n",
    "o = Solution().binary_search([97,81,63,47,36,24,13,6,2],24)\n",
    "o"
   ]
  },
  {
   "cell_type": "markdown",
   "metadata": {},
   "source": [
    "### Merge Sort"
   ]
  },
  {
   "cell_type": "code",
   "execution_count": 3,
   "metadata": {},
   "outputs": [
    {
     "name": "stdout",
     "output_type": "stream",
     "text": [
      "[1, 2, 3, 4, 5, 6, 7, 8]\n"
     ]
    }
   ],
   "source": [
    "def mergesort(A):\n",
    "    if len(A)>1:\n",
    "        mid = len(A)//2\n",
    "        left = A[:mid]\n",
    "        right=A[mid:]\n",
    "        mergesort(left)\n",
    "        mergesort(right)\n",
    "        i,j,k=0,0,0\n",
    "        while i<len(left) and j<len(right):\n",
    "            if left[i]<right[j]:\n",
    "                A[k]=left[i]\n",
    "                i+=1\n",
    "            else:\n",
    "                A[k]=right[j]\n",
    "                j+=1\n",
    "            k+=1\n",
    "        while i<len(left):\n",
    "            A[k]=left[i]\n",
    "            i+=1\n",
    "            k+=1\n",
    "        while j<len(right):\n",
    "            A[k]=right[j]\n",
    "            j+=1\n",
    "            k+=1\n",
    "A = [2,4,1,6,8,5,3,7]\n",
    "mergesort(A)\n",
    "print(A)"
   ]
  },
  {
   "cell_type": "markdown",
   "metadata": {},
   "source": [
    "### Quick Sort"
   ]
  },
  {
   "cell_type": "code",
   "execution_count": 4,
   "metadata": {},
   "outputs": [
    {
     "data": {
      "text/plain": [
       "[1, 2, 3, 4, 5, 6, 7, 8]"
      ]
     },
     "execution_count": 4,
     "metadata": {},
     "output_type": "execute_result"
    }
   ],
   "source": [
    "def partition(a,start,end):\n",
    "    pivot = a[end]\n",
    "    p_index = start\n",
    "    for i in range(start,end):\n",
    "        if a[i]<=pivot:\n",
    "            a[i],a[p_index] = a[p_index],a[i]\n",
    "            p_index+=1\n",
    "    a[p_index],a[end] = a[end], a[p_index]\n",
    "    return p_index\n",
    "\n",
    "def quick_sort(a,start,end):\n",
    "    if start < end:\n",
    "        p_index = partition(a,start,end)\n",
    "        quick_sort(a,start,p_index-1)\n",
    "        quick_sort(a,p_index+1,end)\n",
    "    return a\n",
    "        \n",
    "quick_sort([7,2,1,6,8,5,3,4],0,7)"
   ]
  },
  {
   "cell_type": "markdown",
   "metadata": {},
   "source": [
    "### Max Min from the list"
   ]
  },
  {
   "cell_type": "code",
   "execution_count": 5,
   "metadata": {},
   "outputs": [
    {
     "name": "stdout",
     "output_type": "stream",
     "text": [
      "The minimum element in the list is 1\n",
      "The maximum element in the list is 9\n"
     ]
    }
   ],
   "source": [
    "import sys\n",
    " \n",
    "INF = sys.maxsize\n",
    " \n",
    "def findMinAndMax(A, left, right, min, max):\n",
    "  \n",
    "    if left == right:\n",
    " \n",
    "        if min > A[right]:\n",
    "            min = A[right]\n",
    " \n",
    "        if max < A[left]:\n",
    "            max = A[left]\n",
    " \n",
    "        return min, max\n",
    " \n",
    " \n",
    "    if right - left == 1:\n",
    " \n",
    "        if A[left] < A[right]:\n",
    "            if min > A[left]:\n",
    "                min = A[left]\n",
    " \n",
    "            if max < A[right]:\n",
    "                max = A[right]\n",
    " \n",
    "        else:\n",
    "            if min > A[right]:\n",
    "                min = A[right]\n",
    " \n",
    "            if max < A[left]:\n",
    "                max = A[left]\n",
    " \n",
    "        return min, max\n",
    " \n",
    "    mid = (left + right) // 2\n",
    " \n",
    "    min, max = findMinAndMax(A, left, mid, min, max)\n",
    " \n",
    "    min, max = findMinAndMax(A, mid + 1, right, min, max)\n",
    " \n",
    "    return min, max\n",
    " \n",
    " \n",
    "if __name__ == '__main__':\n",
    " \n",
    "    A = [7, 2, 9, 3, 1, 6, 7, 8, 4]\n",
    " \n",
    "    # initialize the minimum element by `INFINITY` and the\n",
    "    # maximum element by `-INFINITY`\n",
    "    (min, max) = (INF, -INF)\n",
    "    (min, max) = findMinAndMax(A, 0, len(A) - 1, min, max)\n",
    " \n",
    "    print(\"The minimum element in the list is\", min)\n",
    "    print(\"The maximum element in the list is\", max)"
   ]
  },
  {
   "cell_type": "markdown",
   "metadata": {},
   "source": [
    "### Strassen Matrix Multiplication Algorithm"
   ]
  },
  {
   "cell_type": "code",
   "execution_count": 6,
   "metadata": {},
   "outputs": [],
   "source": [
    "def matrix_mul(A,B,n):\n",
    "    if n == 1:\n",
    "        return A*B\n",
    "    else:\n",
    "        mid = n/2\n",
    "        c11 = matrix_mul(A11,B11,n/2) + matrix_mul(A12,B21,n/2)\n",
    "        c12 = matrix_mul(A11,B12,n/2) + matrix_mul(A12,B22,n/2)\n",
    "        c21 = matrix_mul(A21,B11,n/2) + matrix_mul(A22,B21,n/2)\n",
    "        c22 = matrix_mul(A21,B12,n/2) + matrix_mul(A22,B21,n/2)\n",
    "    return c"
   ]
  },
  {
   "cell_type": "markdown",
   "metadata": {},
   "source": [
    "### Karatsuba"
   ]
  },
  {
   "cell_type": "code",
   "execution_count": 13,
   "metadata": {},
   "outputs": [
    {
     "data": {
      "text/plain": [
       "9801"
      ]
     },
     "execution_count": 13,
     "metadata": {},
     "output_type": "execute_result"
    }
   ],
   "source": [
    "\"\"\"\n",
    "https://www.codeandgadgets.com/karatsuba-multiplication-python/\n",
    "\"\"\"\n",
    "def zeroPad(numberString, zeros, left = True):\n",
    "    \"\"\"Return the string with zeros added to the left or right.\"\"\"\n",
    "    for i in range(zeros):\n",
    "        if left:\n",
    "            numberString = '0' + numberString\n",
    "        else:\n",
    "            numberString = numberString + '0'\n",
    "    return numberString\n",
    "\n",
    "def karatsubaMultiplication(x ,y):\n",
    "\n",
    "    x = str(x)\n",
    "    y = str(y)\n",
    "    \n",
    "    if len(x) == 1 and len(y) == 1:\n",
    "        return int(x) * int(y)\n",
    "    if len(x) < len(y):\n",
    "        x = zeroPad(x, len(y) - len(x))\n",
    "    elif len(y) < len(x):\n",
    "        y = zeroPad(y, len(x) - len(y))\n",
    "    n = len(x)\n",
    "    j = n//2\n",
    "    \n",
    "    #for odd digit integers\n",
    "    if (n % 2) != 0:\n",
    "        j += 1    \n",
    "    BZeroPadding = n - j\n",
    "    AZeroPadding = BZeroPadding * 2\n",
    "    a = int(x[:j])\n",
    "    b = int(x[j:])\n",
    "    c = int(y[:j])\n",
    "    d = int(y[j:])\n",
    "    \n",
    "    #recursively calculate\n",
    "    ac = karatsubaMultiplication(a, c)\n",
    "    bd = karatsubaMultiplication(b, d)\n",
    "    k = karatsubaMultiplication(a + b, c + d)\n",
    "    A = int(zeroPad(str(ac), AZeroPadding, False))\n",
    "    B = int(zeroPad(str(k - ac - bd), BZeroPadding, False))\n",
    "    return A + B + bd\n",
    "\n",
    "karatsubaMultiplication(99,99)"
   ]
  },
  {
   "cell_type": "code",
   "execution_count": null,
   "metadata": {},
   "outputs": [],
   "source": []
  }
 ],
 "metadata": {
  "kernelspec": {
   "display_name": "Python 3",
   "language": "python",
   "name": "python3"
  },
  "language_info": {
   "codemirror_mode": {
    "name": "ipython",
    "version": 3
   },
   "file_extension": ".py",
   "mimetype": "text/x-python",
   "name": "python",
   "nbconvert_exporter": "python",
   "pygments_lexer": "ipython3",
   "version": "3.7.6"
  }
 },
 "nbformat": 4,
 "nbformat_minor": 4
}
